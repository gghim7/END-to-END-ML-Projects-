{
 "cells": [
  {
   "cell_type": "markdown",
   "metadata": {},
   "source": [
    "#### Different coding challenges asked in interviews according to chatGPT and others"
   ]
  },
  {
   "cell_type": "markdown",
   "metadata": {},
   "source": [
    "#### Easy Problems"
   ]
  },
  {
   "cell_type": "code",
   "execution_count": 1,
   "metadata": {},
   "outputs": [
    {
     "data": {
      "text/plain": [
       "'edcba'"
      ]
     },
     "execution_count": 1,
     "metadata": {},
     "output_type": "execute_result"
    }
   ],
   "source": [
    "'''Write a function to reverse a string.'''\n",
    "a = 'abcde'\n",
    "a[::-1]"
   ]
  },
  {
   "cell_type": "code",
   "execution_count": 2,
   "metadata": {},
   "outputs": [
    {
     "name": "stdout",
     "output_type": "stream",
     "text": [
      "The average height is 5.55\n"
     ]
    }
   ],
   "source": [
    "'''calculate average height from a list of heights'''\n",
    "a = [4.8, 5.5, 6.2, 4.9, 6.1, 5.9, 6, 5]\n",
    "total_sum = 0\n",
    "total = 0\n",
    "for heights in a:\n",
    "    total_sum = total_sum + heights\n",
    "    total = total + 1\n",
    "print(f'The average height is {total_sum / total}')\n"
   ]
  },
  {
   "cell_type": "code",
   "execution_count": 3,
   "metadata": {},
   "outputs": [
    {
     "name": "stdout",
     "output_type": "stream",
     "text": [
      "The highest scire is 6.2\n"
     ]
    }
   ],
   "source": [
    "#the max\n",
    "a = [4.8, 5.5, 6.2, 4.9, 6.1, 5.9, 6, 5]\n",
    "max = 0\n",
    "for heights in a:\n",
    "    if heights > max:\n",
    "        max = heights\n",
    "print(f'The highest scire is {max}')"
   ]
  },
  {
   "cell_type": "code",
   "execution_count": 4,
   "metadata": {},
   "outputs": [
    {
     "name": "stdout",
     "output_type": "stream",
     "text": [
      "5050\n"
     ]
    }
   ],
   "source": [
    "#sum from 1 to 100\n",
    "total = 0\n",
    "for i in range(0,101):\n",
    "    total = total + i\n",
    "print(total)"
   ]
  },
  {
   "cell_type": "code",
   "execution_count": 5,
   "metadata": {},
   "outputs": [
    {
     "name": "stdout",
     "output_type": "stream",
     "text": [
      "Sum of evens is 30\n"
     ]
    }
   ],
   "source": [
    "#adding only even numbers\n",
    "nums = list(range(0,11))\n",
    "sum = 0\n",
    "for i in nums:\n",
    "    if i % 2 == 0:\n",
    "        sum += i\n",
    "print(f'Sum of evens is {sum}')"
   ]
  },
  {
   "cell_type": "code",
   "execution_count": 6,
   "metadata": {},
   "outputs": [
    {
     "name": "stdout",
     "output_type": "stream",
     "text": [
      "1\n",
      "2\n",
      "Fizz\n",
      "4\n",
      "Buzz\n",
      "Fizz\n",
      "7\n",
      "8\n",
      "Fizz\n",
      "Buzz\n",
      "11\n",
      "Fizz\n",
      "13\n",
      "14\n",
      "FizzBuzz\n",
      "16\n",
      "17\n",
      "Fizz\n",
      "19\n",
      "Buzz\n"
     ]
    }
   ],
   "source": [
    "#FizzBuzz\n",
    "for i in range(1,21):\n",
    "    if i % 3 == 0 and i % 5 == 0:\n",
    "        print('FizzBuzz')\n",
    "    elif i % 3 == 0:\n",
    "        print('Fizz')\n",
    "    elif i % 5 == 0:\n",
    "        print('Buzz')\n",
    "    else:\n",
    "        print(i) "
   ]
  },
  {
   "cell_type": "code",
   "execution_count": 7,
   "metadata": {},
   "outputs": [
    {
     "name": "stdout",
     "output_type": "stream",
     "text": [
      "%^()02eeeca\n"
     ]
    }
   ],
   "source": [
    "'''Password Generator'''\n",
    "import random\n",
    "nums = ['0','1','2','3','4','5','6','7','8','9']\n",
    "special = ['!', '@', '#', '$', '%', '^', '&', '*', '()', ')', '-', '+']\n",
    "alpha = ['a', 'b', 'c', 'd', 'e']\n",
    "length = 10\n",
    "special_length = 3\n",
    "nums_length = 2\n",
    "alpha_length = 5\n",
    "password = ''\n",
    "for i in range(1, special_length+1):\n",
    "    password += random.choice(special)\n",
    "for i in range(1, nums_length+1):\n",
    "    password += random.choice(nums)\n",
    "for i in range (1, alpha_length+1):\n",
    "    password += random.choice(alpha)\n",
    "print(password)"
   ]
  },
  {
   "cell_type": "code",
   "execution_count": null,
   "metadata": {},
   "outputs": [
    {
     "name": "stdout",
     "output_type": "stream",
     "text": [
      "Sum of odds is 25\n"
     ]
    }
   ],
   "source": [
    "#adding only odds numbers\n",
    "nums = list(range(0,11))\n",
    "sum = 0\n",
    "for i in nums:\n",
    "    if i % 2 != 0:\n",
    "        sum += i\n",
    "print(f'Sum of odds is {sum}')"
   ]
  },
  {
   "cell_type": "code",
   "execution_count": null,
   "metadata": {},
   "outputs": [
    {
     "name": "stdout",
     "output_type": "stream",
     "text": [
      "The original string is:  Analytics Vidhya\n",
      "The reversed string is:  ayhdiV scitylanA\n"
     ]
    }
   ],
   "source": [
    "str1 = \"Analytics Vidhya\" \n",
    "str2 = \"\" \n",
    "for i in str1: \n",
    "    str2 = i + str2\n",
    "print(\"The original string is: \",str1) \n",
    "print(\"The reversed string is: \",str2)"
   ]
  },
  {
   "cell_type": "code",
   "execution_count": null,
   "metadata": {},
   "outputs": [
    {
     "name": "stdout",
     "output_type": "stream",
     "text": [
      "[1, 3, 5, 6, 9]\n"
     ]
    }
   ],
   "source": [
    "\n",
    "a = [1,3,9,5,6]\n",
    "a.sort()\n",
    "print(a)"
   ]
  },
  {
   "cell_type": "code",
   "execution_count": null,
   "metadata": {},
   "outputs": [
    {
     "data": {
      "text/plain": [
       "[['Hello', 'There']]"
      ]
     },
     "metadata": {},
     "output_type": "display_data"
    }
   ],
   "source": [
    "'''Convert a string into a list'''\n",
    "a = 'Hello There'\n",
    "al = [a.split()]\n",
    "al"
   ]
  },
  {
   "cell_type": "code",
   "execution_count": null,
   "metadata": {},
   "outputs": [],
   "source": [
    "# Open a file for writing (creates the file if it doesn't exist)\n",
    "with open('example.txt', 'w') as file:\n",
    "    file.write('Hello, World!\\n')  # Write a string to the file\n",
    "    file.write('This is a new line.')"
   ]
  },
  {
   "cell_type": "code",
   "execution_count": null,
   "metadata": {},
   "outputs": [],
   "source": [
    "#remove the file\n",
    "import os\n",
    "os.remove('example.txt')"
   ]
  },
  {
   "cell_type": "code",
   "execution_count": null,
   "metadata": {},
   "outputs": [],
   "source": [
    "## removing elements from a list\n",
    "list1 = [1, 2, 3, 4] \n",
    "list1.remove(2) \n",
    "print(list1)"
   ]
  },
  {
   "cell_type": "code",
   "execution_count": null,
   "metadata": {},
   "outputs": [
    {
     "data": {
      "text/plain": [
       "[]"
      ]
     },
     "execution_count": 11,
     "metadata": {},
     "output_type": "execute_result"
    }
   ],
   "source": [
    "#clear an entire list\n",
    "list1 = [1, 2, 3, 4] \n",
    "list1.clear()\n",
    "list1"
   ]
  },
  {
   "cell_type": "code",
   "execution_count": null,
   "metadata": {},
   "outputs": [
    {
     "name": "stdout",
     "output_type": "stream",
     "text": [
      "[4 3 2 1]\n"
     ]
    }
   ],
   "source": [
    "#reverse an array\n",
    "import numpy as np \n",
    "arr1=np.array([1, 2, 3, 4]) \n",
    "arr2=np.flip(arr1) \n",
    "print(arr2)"
   ]
  },
  {
   "cell_type": "code",
   "execution_count": null,
   "metadata": {},
   "outputs": [
    {
     "name": "stdout",
     "output_type": "stream",
     "text": [
      "120\n"
     ]
    }
   ],
   "source": [
    "'''Write a function to calculate the factorial of a number'''\n",
    "a = 5\n",
    "factorial = 1\n",
    "while a > 1:\n",
    "    factorial = factorial * a\n",
    "    a = a - 1\n",
    "print(factorial)"
   ]
  },
  {
   "cell_type": "code",
   "execution_count": null,
   "metadata": {},
   "outputs": [
    {
     "name": "stdout",
     "output_type": "stream",
     "text": [
      "The fibonacci sequence is [0, 1, 1, 2, 3]\n"
     ]
    }
   ],
   "source": [
    "'''Write a function to generate the Fibonacci sequence up to a given number of terms.'''\n",
    "def fibonacci(num):\n",
    "    fibo = [0,1]\n",
    "    while len(fibo) < num:\n",
    "        f = fibo[-2] + fibo[-1]\n",
    "        fibo.append(f)\n",
    "    print(f'The fibonacci sequence is {fibo}')\n",
    "fibonacci(5)"
   ]
  },
  {
   "cell_type": "code",
   "execution_count": null,
   "metadata": {},
   "outputs": [
    {
     "name": "stdout",
     "output_type": "stream",
     "text": [
      "Palindrome\n"
     ]
    }
   ],
   "source": [
    "'''Write a function to generate the Fibonacci sequence up to a given number of terms.'''\n",
    "def palindrome(a):\n",
    "    if a == a[::-1]:\n",
    "        print('Palindrome')\n",
    "    else:\n",
    "        print('No Palindrome')\n",
    "palindrome('radar')"
   ]
  },
  {
   "cell_type": "code",
   "execution_count": null,
   "metadata": {},
   "outputs": [
    {
     "name": "stdout",
     "output_type": "stream",
     "text": [
      "The sum of numbers is 6\n"
     ]
    }
   ],
   "source": [
    "'''Write a function to calculate the sum of the digits of a number.'''\n",
    "def sums(num):\n",
    "    original = num\n",
    "    result = 0\n",
    "    while num > 0:\n",
    "        digit = num % 10\n",
    "        result = result + digit \n",
    "        num = num // 10\n",
    "    print(f'The sum of numbers is {result}')\n",
    "sums(123)"
   ]
  },
  {
   "cell_type": "code",
   "execution_count": null,
   "metadata": {},
   "outputs": [
    {
     "name": "stdout",
     "output_type": "stream",
     "text": [
      "The largest element is 9\n"
     ]
    }
   ],
   "source": [
    "'''Write a function to find the largest element in an array.'''\n",
    "def largest(arr):\n",
    "    arrmax = max(arr)\n",
    "    print(f'The largest element is {arrmax}')\n",
    "largest(list(range(10)))"
   ]
  },
  {
   "cell_type": "code",
   "execution_count": null,
   "metadata": {},
   "outputs": [
    {
     "name": "stdout",
     "output_type": "stream",
     "text": [
      "count is 5\n"
     ]
    }
   ],
   "source": [
    "'''Write a function to count the number of vowels and consonants in a string.'''\n",
    "def countvc(mys):\n",
    "    v = ['a', 'e', 'i', 'o', 'u']\n",
    "    count = 0\n",
    "    for i in mys:\n",
    "        if i in mys:\n",
    "            count += 1\n",
    "    print(f'count is {count}')\n",
    "countvc('hello')"
   ]
  },
  {
   "cell_type": "code",
   "execution_count": null,
   "metadata": {},
   "outputs": [
    {
     "name": "stdout",
     "output_type": "stream",
     "text": [
      "['H', 'e', 'l', 'o']\n"
     ]
    }
   ],
   "source": [
    "'''Write a function to remove duplicates from a list.'''\n",
    "def rd(myl):\n",
    "    result = []\n",
    "    for i in myl:\n",
    "        if i not in result:\n",
    "            result.append(i)\n",
    "    print(result)\n",
    "rd('Hello')"
   ]
  },
  {
   "cell_type": "code",
   "execution_count": null,
   "metadata": {},
   "outputs": [
    {
     "name": "stdout",
     "output_type": "stream",
     "text": [
      "The missing number is: 3\n"
     ]
    }
   ],
   "source": [
    "'''Given a list of numbers from 1 to n with one number missing, find the missing number in the list. For example, \n",
    "given [1, 2, 4, 5], the missing number is 3.'''\n",
    "def find_missing_number(nums):\n",
    "    # Calculate the sum of numbers from 1 to n using the formula n * (n + 1) / 2\n",
    "    n = len(nums) + 1  # n is the original length of the list + 1\n",
    "    total_sum = n * (n + 1) // 2\n",
    "    \n",
    "    # Calculate the sum of the given list\n",
    "    list_sum = sum(nums)\n",
    "    \n",
    "    # The missing number is the difference between the total sum and the list sum\n",
    "    missing_number = total_sum - list_sum\n",
    "    \n",
    "    return missing_number\n",
    "\n",
    "# Example usage:\n",
    "input_list = [1, 2, 4, 5]\n",
    "missing_number = find_missing_number(input_list)\n",
    "print(\"The missing number is:\", missing_number)"
   ]
  },
  {
   "cell_type": "code",
   "execution_count": null,
   "metadata": {},
   "outputs": [
    {
     "name": "stdout",
     "output_type": "stream",
     "text": [
      "[[7, 2], [5, 4]]\n"
     ]
    }
   ],
   "source": [
    "'''write python code for a list of numbers such that it returns the numbers whose sum is equal to 9'''\n",
    "def find_pairs_with_sum(nums, target_sum):\n",
    "    # Create a dictionary to store seen elements\n",
    "    seen = {}\n",
    "    result = []\n",
    "\n",
    "    for num in nums:\n",
    "        complement = target_sum - num\n",
    "        if complement in seen:\n",
    "            result.append([num, complement])\n",
    "        seen[num] = True\n",
    "\n",
    "    return result\n",
    "\n",
    "# Test the function\n",
    "nums = [2, 7, 4, 5, 3]\n",
    "target_sum = 9\n",
    "pairs = find_pairs_with_sum(nums, target_sum)\n",
    "print(pairs)  # Output: [[2, 7], [4, 5]]\n"
   ]
  },
  {
   "cell_type": "code",
   "execution_count": 5,
   "metadata": {},
   "outputs": [
    {
     "name": "stdout",
     "output_type": "stream",
     "text": [
      "It requires 2 cans\n"
     ]
    }
   ],
   "source": [
    "'''cans of paint'''\n",
    "import math\n",
    "one_can = 5\n",
    "def cans(height, width):\n",
    "    area = height * width\n",
    "    nums = area / one_can\n",
    "    print(f'It requires {math.ceil(nums)} cans')\n",
    "cans(2,4)"
   ]
  },
  {
   "cell_type": "code",
   "execution_count": 5,
   "metadata": {},
   "outputs": [
    {
     "name": "stdout",
     "output_type": "stream",
     "text": [
      "It is a prime number\n"
     ]
    }
   ],
   "source": [
    "'''prime number checker'''\n",
    "def prime_checker(num):\n",
    "    is_prime = True\n",
    "    for i in range(2, num):\n",
    "        if (num % i) == 0:\n",
    "            is_prime = False\n",
    "    if is_prime == True:\n",
    "        print('It is a prime number')\n",
    "    else:\n",
    "            print('It is a prime number')\n",
    "prime_checker(7)\n",
    "    "
   ]
  },
  {
   "cell_type": "code",
   "execution_count": null,
   "metadata": {},
   "outputs": [],
   "source": [
    "'''Implement a program that prints all prime numbers in a given range using for loops.'''\n",
    "def is_prime(num):\n",
    "   for i in range(2,num):\n",
    "       if (num % i) == 0:\n",
    "           return False\n",
    "       else:\n",
    "            return True\n",
    "is_prime(7)"
   ]
  },
  {
   "cell_type": "code",
   "execution_count": 33,
   "metadata": {},
   "outputs": [
    {
     "name": "stdout",
     "output_type": "stream",
     "text": [
      "The decrypted text is hello!\n"
     ]
    }
   ],
   "source": [
    "'''Caeser Cipher: simple version'''\n",
    "alphabets = list(chr(ord('a') + i) for i in range(26))\n",
    "alphabets = alphabets + alphabets\n",
    "direction = input(\"Type 'encode' to encrypt and 'decode' to decrypt:\\n\")\n",
    "text = input('Type your message:\\n').lower()\n",
    "shift = int(input('Type your shift number:\\n'))\n",
    "#encrypt\n",
    "if direction == 'encode':\n",
    "    def encrypt(text_plain, shift_amount):\n",
    "        etext = ''\n",
    "        for letter in text_plain:\n",
    "            position = alphabets.index(letter)\n",
    "            new_position = position + shift_amount\n",
    "            new_letter = alphabets[new_position]\n",
    "            etext = etext + new_letter\n",
    "        print(f\"The encrypted text is {etext}!\")\n",
    "    encrypt(text, shift)\n",
    "#decrypt\n",
    "elif direction == 'decode':\n",
    "    def decrypt(text_plain, shift_amount):\n",
    "        dtext = ''\n",
    "        for letter in text_plain:\n",
    "            position = alphabets.index(letter)\n",
    "            new_position = position - shift_amount\n",
    "            new_letter = alphabets[new_position]\n",
    "            dtext = dtext + new_letter\n",
    "        print(f\"The decrypted text is {dtext}!\")\n",
    "    decrypt(text, shift)"
   ]
  },
  {
   "cell_type": "code",
   "execution_count": 34,
   "metadata": {},
   "outputs": [
    {
     "name": "stdout",
     "output_type": "stream",
     "text": [
      "The decrypted text is hello!\n"
     ]
    }
   ],
   "source": [
    "'''Caeser Cipher: better version'''\n",
    "alphabets = list(chr(ord('a') + i) for i in range(26))\n",
    "alphabets = alphabets + alphabets\n",
    "direction = input(\"Type 'encode' to encrypt and 'decode' to decrypt:\\n\")\n",
    "text = input('Type your message:\\n').lower()\n",
    "shift = int(input('Type your shift number:\\n'))\n",
    "def caeser(text_plain, shift_amount, to):\n",
    "    if to == 'encode':\n",
    "        etext = ''\n",
    "        for letter in text_plain:\n",
    "            position = alphabets.index(letter)\n",
    "            new_position = position + shift_amount\n",
    "            new_letter = alphabets[new_position]\n",
    "            etext = etext + new_letter\n",
    "        print(f\"The encrypted text is {etext}!\")\n",
    "    elif to == 'decode':\n",
    "        dtext = ''\n",
    "        for letter in text_plain:\n",
    "            position = alphabets.index(letter)\n",
    "            new_position = position - shift_amount\n",
    "            new_letter = alphabets[new_position]\n",
    "            dtext = dtext + new_letter\n",
    "        print(f\"The decrypted text is {dtext}!\")\n",
    "caeser(text, shift, direction)"
   ]
  },
  {
   "cell_type": "code",
   "execution_count": 43,
   "metadata": {},
   "outputs": [
    {
     "name": "stdout",
     "output_type": "stream",
     "text": [
      "15\n"
     ]
    }
   ],
   "source": [
    "def outer_function(a, b):\n",
    "    def inner_function(c, d):\n",
    "        return c + d\n",
    "    return inner_function(a, b)\n",
    " \n",
    "result = outer_function(5, 10)\n",
    "print(result)"
   ]
  },
  {
   "cell_type": "markdown",
   "metadata": {},
   "source": [
    "#### Angela Yu's 100 days"
   ]
  },
  {
   "cell_type": "code",
   "execution_count": 10,
   "metadata": {},
   "outputs": [],
   "source": [
    "# '''Hangman Project'''\n",
    "# #Part 1\n",
    "# import random\n",
    "# word_list = ['ardvark', 'baboon', 'camel']\n",
    "# chosen_word = random.choice(word_list)\n",
    "# guess = str(input('Enter a letter for the the word: ')).lower()\n",
    "# chances = 6\n",
    "# attempts = 0\n",
    "# for letter in chosen_word:\n",
    "#     if letter == guess:\n",
    "#         print('Right, you have {} attempts left.Now guess another')\n",
    "\n",
    "#     else:\n",
    "#         print('Wrong, now you have {} number of attempts left. Try again.')\n"
   ]
  },
  {
   "cell_type": "code",
   "execution_count": 11,
   "metadata": {},
   "outputs": [],
   "source": [
    "# #Part 2 for hangman\n",
    "# print(f'The solution is: {chosen_word}')\n",
    "# display = ['__' for a in chosen_word]\n",
    "# guess = str(input('Enter a letter for the the word: ')).lower()\n",
    "# for underscore in display:\n",
    "#     if guess in chosen_word:\n",
    "#         chosen_index = chosen_word.index(guess)\n",
    "#         display[chosen_index] = guess\n",
    "# print(display)"
   ]
  },
  {
   "cell_type": "code",
   "execution_count": 12,
   "metadata": {},
   "outputs": [],
   "source": [
    "# # part 2 another way\n",
    "# #Part 2 for hangman\n",
    "# print(f'The solution is: {chosen_word}')\n",
    "# display = ['__' for a in chosen_word]\n",
    "# word_length = len(chosen_word)\n",
    "# guess = str(input('Enter a letter for the the word: ')).lower()\n",
    "# for position in range(word_length):\n",
    "#     letter = chosen_word[position]\n",
    "#     if letter == guess:\n",
    "#         display[position] = letter\n",
    "#     print(display)\n",
    " "
   ]
  },
  {
   "cell_type": "markdown",
   "metadata": {},
   "source": [
    "#### Complex Problems"
   ]
  },
  {
   "cell_type": "code",
   "execution_count": 17,
   "metadata": {},
   "outputs": [
    {
     "name": "stdout",
     "output_type": "stream",
     "text": [
      "Word: _ _ _ _ _ _ _ _ _ _\n",
      "Incorrect guesses: \n",
      "Attempts left: 6\n",
      "Word: _ _ _ _ _ _ _ _ _ _\n",
      "Incorrect guesses: a\n",
      "Attempts left: 5\n",
      "Word: e _ _ e _ _ e _ _ _\n",
      "Incorrect guesses: a\n",
      "Attempts left: 5\n",
      "Word: e _ _ e _ _ e _ _ _\n",
      "Incorrect guesses: a, i\n",
      "Attempts left: 4\n",
      "Word: e _ _ e _ _ e _ _ _\n",
      "Incorrect guesses: a, i, o\n",
      "Attempts left: 3\n",
      "Word: e _ _ e _ _ e _ _ _\n",
      "Incorrect guesses: a, i, o, u\n",
      "Attempts left: 2\n",
      "Word: e _ _ e r _ e r r _\n",
      "Incorrect guesses: a, i, o, u\n",
      "Attempts left: 2\n",
      "Word: e _ _ e r _ e r r _\n",
      "Incorrect guesses: a, i, o, u, s\n",
      "Attempts left: 1\n",
      "Word: e _ _ e r _ e r r _\n",
      "Incorrect guesses: a, i, o, u, s, p\n",
      "Attempts left: 0\n",
      "You've run out of attempts. The word was: elderberry\n"
     ]
    }
   ],
   "source": [
    "'''Hangman Game'''\n",
    "\n",
    "import random\n",
    "\n",
    "# List of words for the game\n",
    "words = [\"apple\", \"banana\", \"cherry\", \"date\", \"elderberry\", \"fig\", \"grape\", \"honeydew\"]\n",
    "\n",
    "# Function to choose a random word from the list\n",
    "def choose_word():\n",
    "    return random.choice(words)\n",
    "\n",
    "# Function to initialize the game\n",
    "def initialize(word):\n",
    "    display_word = [\"_\" for _ in word]\n",
    "    incorrect_guesses = []\n",
    "    attempts = 6\n",
    "    return display_word, incorrect_guesses, attempts\n",
    "\n",
    "# Function to display the current state of the game\n",
    "def display(display_word, incorrect_guesses, attempts):\n",
    "    print(\"Word: \" + \" \".join(display_word))\n",
    "    print(\"Incorrect guesses: \" + \", \".join(incorrect_guesses))\n",
    "    print(\"Attempts left: \" + str(attempts))\n",
    "\n",
    "# Function to play the game\n",
    "def play_hangman():\n",
    "    word = choose_word()\n",
    "    display_word, incorrect_guesses, attempts = initialize(word)\n",
    "\n",
    "    while True:\n",
    "        display(display_word, incorrect_guesses, attempts)\n",
    "        guess = input(\"Guess a letter: \").lower()\n",
    "\n",
    "        if guess in word:\n",
    "            for i in range(len(word)):\n",
    "                if word[i] == guess:\n",
    "                    display_word[i] = guess\n",
    "        else:\n",
    "            if guess not in incorrect_guesses:\n",
    "                incorrect_guesses.append(guess)\n",
    "                attempts -= 1\n",
    "\n",
    "        if \"_\" not in display_word:\n",
    "            display(display_word, incorrect_guesses, attempts)\n",
    "            print(\"Congratulations! You've guessed the word: \" + word)\n",
    "            break\n",
    "\n",
    "        if attempts == 0:\n",
    "            display(display_word, incorrect_guesses, attempts)\n",
    "            print(\"You've run out of attempts. The word was: \" + word)\n",
    "            break\n",
    "\n",
    "if __name__ == \"__main__\":\n",
    "    play_hangman()\n",
    "\n"
   ]
  },
  {
   "cell_type": "markdown",
   "metadata": {},
   "source": [
    "#### Everyday Challenges\n",
    "- 09/26/2023"
   ]
  },
  {
   "cell_type": "code",
   "execution_count": 3,
   "metadata": {},
   "outputs": [
    {
     "name": "stdout",
     "output_type": "stream",
     "text": [
      "madam is a palindrome\n"
     ]
    }
   ],
   "source": [
    "'''Palindrome Checker'''\n",
    "def pali(txt):\n",
    "    if txt == txt[::-1]:\n",
    "        print(f\"{txt} is a palindrome\")\n",
    "    else:\n",
    "        print(f\"It's not a palindrome!\")\n",
    "pali('madam')"
   ]
  },
  {
   "cell_type": "code",
   "execution_count": 13,
   "metadata": {},
   "outputs": [
    {
     "data": {
      "text/plain": [
       "[0, 1, 1, 2, 3, 5, 8, 13, 21, 34]"
      ]
     },
     "execution_count": 13,
     "metadata": {},
     "output_type": "execute_result"
    }
   ],
   "source": [
    "'''Fibonacci list'''\n",
    "def generate_fibonacci(n):\n",
    "    # Initialize the first two Fibonacci numbers\n",
    "    fib_sequence = [0, 1]\n",
    "\n",
    "    # Generate the sequence using a loop\n",
    "    while len(fib_sequence) < n:\n",
    "        next_number = fib_sequence[-1] + fib_sequence[-2]\n",
    "        fib_sequence.append(next_number)\n",
    "\n",
    "    return fib_sequence\n",
    "generate_fibonacci(10)"
   ]
  },
  {
   "cell_type": "code",
   "execution_count": 16,
   "metadata": {},
   "outputs": [
    {
     "data": {
      "text/plain": [
       "False"
      ]
     },
     "execution_count": 16,
     "metadata": {},
     "output_type": "execute_result"
    }
   ],
   "source": [
    "'''Prime checker'''\n",
    "def prime(num):\n",
    "    for i in range(2,num):\n",
    "        if num % i == 0:\n",
    "            return False\n",
    "        else:\n",
    "            return True\n",
    "prime(12)"
   ]
  },
  {
   "cell_type": "markdown",
   "metadata": {},
   "source": [
    "#### - 09/27/2023"
   ]
  },
  {
   "cell_type": "code",
   "execution_count": 1,
   "metadata": {},
   "outputs": [
    {
     "data": {
      "text/plain": [
       "120"
      ]
     },
     "execution_count": 1,
     "metadata": {},
     "output_type": "execute_result"
    }
   ],
   "source": [
    "'''Recusrvie calling'''\n",
    "'''Recursive calling in Python refers to a programming technique where a function calls itself in order \n",
    "to solve a problem. This is known as recursion, and it's a powerful and elegant way to solve certain \n",
    "types of problems, particularly those that can be broken down into smaller, similar subproblems.'''\n",
    "def factorial(n):\n",
    "    # Base case: factorial of 0 is 1\n",
    "    if n == 0:\n",
    "        return 1\n",
    "    # Recursive case: n! = n * (n-1)!\n",
    "    else:\n",
    "        return n * factorial(n - 1)\n",
    "factorial(5)\n",
    "\n"
   ]
  },
  {
   "cell_type": "code",
   "execution_count": 2,
   "metadata": {},
   "outputs": [
    {
     "name": "stdout",
     "output_type": "stream",
     "text": [
      "[0, 1, 1, 2, 3]\n"
     ]
    }
   ],
   "source": [
    "#Use recursiion to solve fibonacci problem\n",
    "def fibonacci(num):\n",
    "    f = [0,1]\n",
    "    while len(f) < num:\n",
    "        next = f[-2] + f[-1]\n",
    "        f.append(next)\n",
    "    print(f)\n",
    "fibonacci(5)\n",
    "\n",
    "def fibonacci(n):\n",
    "    if n <= 0:\n",
    "        return []\n",
    "    elif n == 1:\n",
    "        return [0]\n",
    "    elif n == 2:\n",
    "        return [0, 1]\n",
    "    else:\n",
    "        fib_list = fibonacci(n - 1)\n",
    "        fib_list.append(fib_list[-1] + fib_list[-2])\n",
    "        return fib_list\n",
    "\n",
    "# Example: Generate the first 10 Fibonacci numbers\n",
    "result = fibonacci(10)\n",
    "print(result)\n"
   ]
  },
  {
   "cell_type": "code",
   "execution_count": null,
   "metadata": {},
   "outputs": [],
   "source": []
  }
 ],
 "metadata": {
  "kernelspec": {
   "display_name": "Python 3",
   "language": "python",
   "name": "python3"
  },
  "language_info": {
   "codemirror_mode": {
    "name": "ipython",
    "version": 3
   },
   "file_extension": ".py",
   "mimetype": "text/x-python",
   "name": "python",
   "nbconvert_exporter": "python",
   "pygments_lexer": "ipython3",
   "version": "3.10.11"
  },
  "orig_nbformat": 4
 },
 "nbformat": 4,
 "nbformat_minor": 2
}
