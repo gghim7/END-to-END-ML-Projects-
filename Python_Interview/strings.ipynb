{
 "cells": [
  {
   "cell_type": "code",
   "execution_count": 2,
   "metadata": {},
   "outputs": [
    {
     "name": "stdout",
     "output_type": "stream",
     "text": [
      "tnirp\n"
     ]
    }
   ],
   "source": [
    "'''Write a program to reverse a given string'''\n",
    "def reverse(mys):\n",
    "    mys = mys[::-1]\n",
    "    print(mys)\n",
    "reverse('print')"
   ]
  },
  {
   "cell_type": "code",
   "execution_count": 4,
   "metadata": {},
   "outputs": [
    {
     "name": "stdout",
     "output_type": "stream",
     "text": [
      "There are 2 vowels and 3 consonants.\n"
     ]
    }
   ],
   "source": [
    "'''Create a program that counts the number of vowels and consonants in a string.'''\n",
    "def vc(mys):\n",
    "    vcount = 0\n",
    "    ccount = 0\n",
    "    vowels = ['a','e','i','o','u']\n",
    "    for chars in mys:\n",
    "        if chars in vowels:\n",
    "            vcount = vcount + 1\n",
    "        else:\n",
    "            ccount = ccount + 1\n",
    "    print(f'There are {vcount} vowels and {ccount} consonants.')\n",
    "vc('Hello')\n"
   ]
  },
  {
   "cell_type": "code",
   "execution_count": 5,
   "metadata": {},
   "outputs": [
    {
     "name": "stdout",
     "output_type": "stream",
     "text": [
      "Palindrome\n"
     ]
    }
   ],
   "source": [
    "'''Write a program to check if a given string is a palindrome (reads the same forwards and backwards).'''\n",
    "def palindrome(mys):\n",
    "    if mys == mys[::-1]:\n",
    "        print('Palindrome')\n",
    "    else:\n",
    "        print('No Palindrome')\n",
    "palindrome('radar')"
   ]
  },
  {
   "cell_type": "code",
   "execution_count": 6,
   "metadata": {},
   "outputs": [
    {
     "name": "stdout",
     "output_type": "stream",
     "text": [
      "anagrams\n"
     ]
    }
   ],
   "source": [
    "'''Implement a program that checks if two strings are anagrams of each other.'''\n",
    "def anagram(a,b):\n",
    "    al = [char for char in a]\n",
    "    bl = [char for char in a]\n",
    "    if al == bl:\n",
    "        print('anagrams')\n",
    "    else:\n",
    "        print('not anagrams')\n",
    "anagram('listen', 'silent')"
   ]
  },
  {
   "cell_type": "code",
   "execution_count": 7,
   "metadata": {},
   "outputs": [
    {
     "name": "stdout",
     "output_type": "stream",
     "text": [
      "6\n"
     ]
    }
   ],
   "source": [
    "'''Create a program that counts the number of words in a sentence or string.'''\n",
    "def count_words(sent):\n",
    "    print(f'{len(sent.split())}')\n",
    "count_words('Count the number of words here')"
   ]
  },
  {
   "cell_type": "code",
   "execution_count": 12,
   "metadata": {},
   "outputs": [
    {
     "data": {
      "text/plain": [
       "'Helo'"
      ]
     },
     "execution_count": 12,
     "metadata": {},
     "output_type": "execute_result"
    }
   ],
   "source": [
    "'''Write a program that removes duplicate characters from a string.'''\n",
    "def remove_duplicates(input_string):\n",
    "    # Initialize an empty string to store the result\n",
    "    result = \"\"\n",
    "    \n",
    "    # Iterate through each character in the input string\n",
    "    for char in input_string:\n",
    "        # If the character is not already in the result string, add it\n",
    "        if char not in result:\n",
    "            result += char\n",
    "    \n",
    "    return result\n",
    "remove_duplicates('Hello')"
   ]
  },
  {
   "cell_type": "code",
   "execution_count": 15,
   "metadata": {},
   "outputs": [
    {
     "data": {
      "text/plain": [
       "True"
      ]
     },
     "execution_count": 15,
     "metadata": {},
     "output_type": "execute_result"
    }
   ],
   "source": [
    "'''Implement a program that checks if a given substring exists in a larger string.'''\n",
    "def check_substring(substring, larger_string):\n",
    "    if substring in larger_string:\n",
    "        return True\n",
    "    else:\n",
    "        return False\n",
    "\n",
    "check_substring('abc', 'abcde')"
   ]
  },
  {
   "cell_type": "code",
   "execution_count": 16,
   "metadata": {},
   "outputs": [
    {
     "name": "stdout",
     "output_type": "stream",
     "text": [
      "dlroW, olleH!\n"
     ]
    }
   ],
   "source": [
    "'''Reverse a string while keeping special characters in their original positions.'''\n",
    "def reverse_with_special_characters(input_string):\n",
    "    # Step 1: Create a list to store special characters and their positions\n",
    "    special_chars = [(char, i) for i, char in enumerate(input_string) if not char.isalnum()]\n",
    "\n",
    "    # Step 2: Remove special characters from the string\n",
    "    input_string = ''.join([char for char in input_string if char.isalnum()])\n",
    "\n",
    "    # Step 3: Reverse the string\n",
    "    reversed_string = input_string[::-1]\n",
    "\n",
    "    # Step 4: Insert special characters back into their original positions\n",
    "    result_list = list(reversed_string)\n",
    "    for char, position in special_chars:\n",
    "        result_list.insert(position, char)\n",
    "\n",
    "    # Convert the list back to a string\n",
    "    result_string = ''.join(result_list)\n",
    "\n",
    "    return result_string\n",
    "\n",
    "# Example usage:\n",
    "input_string = \"Hello, World!\"\n",
    "reversed_with_special = reverse_with_special_characters(input_string)\n",
    "print(reversed_with_special)\n"
   ]
  },
  {
   "cell_type": "code",
   "execution_count": 17,
   "metadata": {},
   "outputs": [
    {
     "data": {
      "text/plain": [
       "'Hello Mary Lou'"
      ]
     },
     "execution_count": 17,
     "metadata": {},
     "output_type": "execute_result"
    }
   ],
   "source": [
    "'''Write a program that capitalizes the first letter of each word in a sentence.'''\n",
    "def capitalize_first_letter(sentence):\n",
    "    # Use the title() method to capitalize the first letter of each word\n",
    "    capitalized_sentence = sentence.title()\n",
    "    return capitalized_sentence\n",
    "capitalize_first_letter('hello mary lou')"
   ]
  },
  {
   "cell_type": "code",
   "execution_count": 18,
   "metadata": {},
   "outputs": [
    {
     "data": {
      "text/plain": [
       "'Implement an algorithm to find the longest palindromic substring in a given string.'"
      ]
     },
     "execution_count": 18,
     "metadata": {},
     "output_type": "execute_result"
    }
   ],
   "source": [
    "'''Implement an algorithm to find the longest palindromic substring in a given string.'''"
   ]
  },
  {
   "cell_type": "code",
   "execution_count": 19,
   "metadata": {},
   "outputs": [
    {
     "data": {
      "text/plain": [
       "'Compress a string by replacing repeated characters with their count.'"
      ]
     },
     "execution_count": 19,
     "metadata": {},
     "output_type": "execute_result"
    }
   ],
   "source": [
    "'''Compress a string by replacing repeated characters with their count.'''"
   ]
  },
  {
   "cell_type": "code",
   "execution_count": 20,
   "metadata": {},
   "outputs": [
    {
     "data": {
      "text/plain": [
       "'Write a program that checks if a sentence contains all the letters of the alphabet (a pangram).'"
      ]
     },
     "execution_count": 20,
     "metadata": {},
     "output_type": "execute_result"
    }
   ],
   "source": [
    "'''Write a program that checks if a sentence contains all the letters of the alphabet (a pangram).'''"
   ]
  },
  {
   "cell_type": "code",
   "execution_count": 21,
   "metadata": {},
   "outputs": [
    {
     "data": {
      "text/plain": [
       "'Implement a Caesar cipher encryption and decryption program for a given string.'"
      ]
     },
     "execution_count": 21,
     "metadata": {},
     "output_type": "execute_result"
    }
   ],
   "source": [
    "'''Implement a Caesar cipher encryption and decryption program for a given string.'''"
   ]
  },
  {
   "cell_type": "code",
   "execution_count": 22,
   "metadata": {},
   "outputs": [
    {
     "data": {
      "text/plain": [
       "'Given a list of strings, find all groups of anagrams.'"
      ]
     },
     "execution_count": 22,
     "metadata": {},
     "output_type": "execute_result"
    }
   ],
   "source": [
    "'''Given a list of strings, find all groups of anagrams.'''"
   ]
  },
  {
   "cell_type": "code",
   "execution_count": 23,
   "metadata": {},
   "outputs": [
    {
     "data": {
      "text/plain": [
       "'Reverse the order of words in a sentence.'"
      ]
     },
     "execution_count": 23,
     "metadata": {},
     "output_type": "execute_result"
    }
   ],
   "source": [
    "'''Reverse the order of words in a sentence.'''"
   ]
  },
  {
   "cell_type": "code",
   "execution_count": 24,
   "metadata": {},
   "outputs": [
    {
     "data": {
      "text/plain": [
       "'Write a program that finds the first non-repeating character in a string.'"
      ]
     },
     "execution_count": 24,
     "metadata": {},
     "output_type": "execute_result"
    }
   ],
   "source": [
    "'''Write a program that finds the first non-repeating character in a string.'''"
   ]
  },
  {
   "cell_type": "code",
   "execution_count": 25,
   "metadata": {},
   "outputs": [
    {
     "data": {
      "text/plain": [
       "'Check if a string containing only parentheses is valid (balanced).'"
      ]
     },
     "execution_count": 25,
     "metadata": {},
     "output_type": "execute_result"
    }
   ],
   "source": [
    "'''Check if a string containing only parentheses is valid (balanced).'''"
   ]
  },
  {
   "cell_type": "code",
   "execution_count": 26,
   "metadata": {},
   "outputs": [
    {
     "data": {
      "text/plain": [
       "'Find the longest common prefix among an array of strings.'"
      ]
     },
     "execution_count": 26,
     "metadata": {},
     "output_type": "execute_result"
    }
   ],
   "source": [
    "'''Find the longest common prefix among an array of strings.'''"
   ]
  },
  {
   "cell_type": "code",
   "execution_count": 27,
   "metadata": {},
   "outputs": [
    {
     "data": {
      "text/plain": [
       "'Write a program that removes all white spaces from a string.'"
      ]
     },
     "execution_count": 27,
     "metadata": {},
     "output_type": "execute_result"
    }
   ],
   "source": [
    "'''Write a program that removes all white spaces from a string.'''"
   ]
  },
  {
   "cell_type": "code",
   "execution_count": 28,
   "metadata": {},
   "outputs": [
    {
     "data": {
      "text/plain": [
       "'Determine if one string is a rotation of another string.'"
      ]
     },
     "execution_count": 28,
     "metadata": {},
     "output_type": "execute_result"
    }
   ],
   "source": [
    "'''Determine if one string is a rotation of another string.'''"
   ]
  },
  {
   "cell_type": "code",
   "execution_count": null,
   "metadata": {},
   "outputs": [],
   "source": []
  }
 ],
 "metadata": {
  "kernelspec": {
   "display_name": "Python 3",
   "language": "python",
   "name": "python3"
  },
  "language_info": {
   "codemirror_mode": {
    "name": "ipython",
    "version": 3
   },
   "file_extension": ".py",
   "mimetype": "text/x-python",
   "name": "python",
   "nbconvert_exporter": "python",
   "pygments_lexer": "ipython3",
   "version": "3.10.11"
  },
  "orig_nbformat": 4
 },
 "nbformat": 4,
 "nbformat_minor": 2
}
