{
 "cells": [
  {
   "cell_type": "code",
   "execution_count": 1,
   "metadata": {},
   "outputs": [
    {
     "name": "stdout",
     "output_type": "stream",
     "text": [
      "100 10.0\n"
     ]
    }
   ],
   "source": [
    "'''What would you use to find a number’s square root, as well as its square?'''\n",
    "square = 10 ** 2\n",
    "sqrt = 100 ** 0.5\n",
    "print(square, sqrt)"
   ]
  },
  {
   "cell_type": "code",
   "execution_count": 2,
   "metadata": {},
   "outputs": [
    {
     "name": "stdout",
     "output_type": "stream",
     "text": [
      "The cube of the number is 27\n"
     ]
    }
   ],
   "source": [
    "'''Write a program that takes a number as input and prints its square and cube.'''\n",
    "num = int(input('Enter a number'))\n",
    "print(f'The cube of the number is {num**3}')"
   ]
  },
  {
   "cell_type": "code",
   "execution_count": 4,
   "metadata": {},
   "outputs": [
    {
     "name": "stdout",
     "output_type": "stream",
     "text": [
      "Average in the list is 4.5\n"
     ]
    }
   ],
   "source": [
    "myl = list(range(10))\n",
    "print(f'Average in the list is {(sum(myl)/len(myl))}')"
   ]
  },
  {
   "cell_type": "code",
   "execution_count": 5,
   "metadata": {},
   "outputs": [
    {
     "name": "stdout",
     "output_type": "stream",
     "text": [
      "Farenheight is 32.0\n"
     ]
    }
   ],
   "source": [
    "'''Create a program that converts a temperature in Celsius to Fahrenheit using the formula (Celsius * 9/5) + 32.'''\n",
    "def ctof(cels):\n",
    "    far = (cels * (9/5)) + 32\n",
    "    print(f'Farenheight is {far}')\n",
    "ctof(0)"
   ]
  },
  {
   "cell_type": "code",
   "execution_count": 6,
   "metadata": {},
   "outputs": [
    {
     "name": "stdout",
     "output_type": "stream",
     "text": [
      "The roots of this quadratic equation are (-0.9999999999999999+1.4142135623730951j) and (-1-1.4142135623730951j)\n"
     ]
    }
   ],
   "source": [
    "'''Write a program that calculates the roots of a quadratic equation ax^2 + bx + c = 0 given the coefficients a, b, and c.'''\n",
    "def quad(a,b,c):\n",
    "    x1 = (-b + (b**2 - 4*a*c)**0.5) / (2*a)\n",
    "    x2 = (-b - (b**2 - 4*a*c)**0.5) / (2*a) \n",
    "    print(f'The roots of this quadratic equation are {x1} and {x2}')\n",
    "quad(1,2,3)\n"
   ]
  },
  {
   "cell_type": "code",
   "execution_count": null,
   "metadata": {},
   "outputs": [],
   "source": []
  }
 ],
 "metadata": {
  "kernelspec": {
   "display_name": "Python 3",
   "language": "python",
   "name": "python3"
  },
  "language_info": {
   "codemirror_mode": {
    "name": "ipython",
    "version": 3
   },
   "file_extension": ".py",
   "mimetype": "text/x-python",
   "name": "python",
   "nbconvert_exporter": "python",
   "pygments_lexer": "ipython3",
   "version": "3.10.11"
  },
  "orig_nbformat": 4
 },
 "nbformat": 4,
 "nbformat_minor": 2
}
